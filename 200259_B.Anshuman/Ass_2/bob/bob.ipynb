{
    "cells": [
        {
            "cell_type": "markdown",
            "metadata": {},
            "source": [
                "# Bob\n",
                "\n",
                "Bob is a lackadaisical teenager. In conversation, his responses are very limited.\n",
                "\n",
                "Bob answers 'Sure.' if you ask him a question, such as \"How are you?\".\n",
                "\n",
                "He answers 'Whoa, chill out!' if you YELL AT HIM (in all capitals).\n",
                "\n",
                "He answers 'Calm down, I know what I'm doing!' if you yell a question at him.\n",
                "\n",
                "He says 'Fine. Be that way!' if you address him without actually saying\n",
                "anything.\n",
                "\n",
                "He answers 'Whatever.' to anything else.\n",
                "\n",
                "Bob's conversational partner is a purist when it comes to written communication and always follows normal rules regarding sentence punctuation in English.\n",
                "\n",
                "## Source\n",
                "\n",
                "Inspired by the 'Deaf Grandma' exercise in Chris Pine's Learn to Program tutorial. [http://pine.fm/LearnToProgram/?Chapter=06](http://pine.fm/LearnToProgram/?Chapter=06)\n",
                "\n",
                "## Version compatibility\n",
                "This exercise has been tested on Julia versions >=1.0.\n",
                "\n",
                "## Submitting Incomplete Solutions\n",
                "It's possible to submit an incomplete solution so you can see how others have completed the exercise."
            ]
        },
        {
            "cell_type": "markdown",
            "metadata": {},
            "source": [
                "## Your solution"
            ]
        },
        {
            "cell_type": "code",
            "execution_count": 52,
            "metadata": {},
            "outputs": [
                {
                    "output_type": "execute_result",
                    "data": {
                        "text/plain": [
                            "\"Sure.\""
                        ]
                    },
                    "metadata": {},
                    "execution_count": 52
                }
            ],
            "source": [
                "# submit\n",
                "function bob(stimulus)\n",
                "    for ch in stimulus\n",
                "        if ch == '?'\n",
                "            if uppercase(stimulus) == stimulus\n",
                "                return \"Calm down, I know what I'm doing!\"\n",
                "            else\n",
                "                return \"Sure.\"\n",
                "            end\n",
                "        end\n",
                "    end\n",
                "    if length(strip(stimulus))==0\n",
                "        return \"Fine. Be that way!\"\n",
                "    elseif uppercase(stimulus)==stimulus\n",
                "        return \"Whoa, chill out!\"\n",
                "    else\n",
                "        return \"Whatever.\"\n",
                "    end\n",
                "end\n",
                "\n",
                "\n",
                "bob(\"Hä?\")\n",
                "# stimulus = \"I hate?\"\n",
                "# stimulus[length(stimulus)]"
            ]
        },
        {
            "cell_type": "markdown",
            "metadata": {},
            "source": [
                "## Test suite"
            ]
        },
        {
            "cell_type": "code",
            "execution_count": 53,
            "metadata": {},
            "outputs": [
                {
                    "output_type": "stream",
                    "name": "stdout",
                    "text": [
                        "\u001b[37m4?: \u001b[39m\u001b[91m\u001b[1mTest Failed\u001b[22m\u001b[39m at \u001b[39m\u001b[1mIn[53]:63\u001b[22m\n  Expression: bob(question) == response[:question]\n   Evaluated: \"Calm down, I know what I'm doing!\" == \"Sure.\"\nStacktrace:\n [1] \u001b[0m\u001b[1mmacro expansion\u001b[22m\n\u001b[90m   @ \u001b[39m\u001b[90m./\u001b[39m\u001b[90;4mIn[53]:63\u001b[0m\u001b[90m [inlined]\u001b[39m\n [2] \u001b[0m\u001b[1mmacro expansion\u001b[22m\n\u001b[90m   @ \u001b[39m\u001b[90m/buildworker/worker/package_linux64/build/usr/share/julia/stdlib/v1.6/Test/src/\u001b[39m\u001b[90;4mTest.jl:1226\u001b[0m\u001b[90m [inlined]\u001b[39m\n [3] \u001b[0m\u001b[1mmacro expansion\u001b[22m\n\u001b[90m   @ \u001b[39m\u001b[90m./\u001b[39m\u001b[90;4mIn[53]:62\u001b[0m\u001b[90m [inlined]\u001b[39m\n [4] \u001b[0m\u001b[1mmacro expansion\u001b[22m\n\u001b[90m   @ \u001b[39m\u001b[90m/buildworker/worker/package_linux64/build/usr/share/julia/stdlib/v1.6/Test/src/\u001b[39m\u001b[90;4mTest.jl:1151\u001b[0m\u001b[90m [inlined]\u001b[39m\n [5] top-level scope\n\u001b[90m   @ \u001b[39m\u001b[90m./\u001b[39m\u001b[90;4mIn[53]:62\u001b[0m\n\u001b[37m:) ?: \u001b[39m\u001b[91m\u001b[1mTest Failed\u001b[22m\u001b[39m at \u001b[39m\u001b[1mIn[53]:63\u001b[22m\n  Expression: bob(question) == response[:question]\n   Evaluated: \"Calm down, I know what I'm doing!\" == \"Sure.\"\nStacktrace:\n [1] \u001b[0m\u001b[1mmacro expansion\u001b[22m\n\u001b[90m   @ \u001b[39m\u001b[90m./\u001b[39m\u001b[90;4mIn[53]:63\u001b[0m\u001b[90m [inlined]\u001b[39m\n [2] \u001b[0m\u001b[1mmacro expansion\u001b[22m\n\u001b[90m   @ \u001b[39m\u001b[90m/buildworker/worker/package_linux64/build/usr/share/julia/stdlib/v1.6/Test/src/\u001b[39m\u001b[90;4mTest.jl:1226\u001b[0m\u001b[90m [inlined]\u001b[39m\n [3] \u001b[0m\u001b[1mmacro expansion\u001b[22m\n\u001b[90m   @ \u001b[39m\u001b[90m./\u001b[39m\u001b[90;4mIn[53]:62\u001b[0m\u001b[90m [inlined]\u001b[39m\n [4] \u001b[0m\u001b[1mmacro expansion\u001b[22m\n\u001b[90m   @ \u001b[39m\u001b[90m/buildworker/worker/package_linux64/build/usr/share/julia/stdlib/v1.6/Test/src/\u001b[39m\u001b[90;4mTest.jl:1151\u001b[0m\u001b[90m [inlined]\u001b[39m\n [5] top-level scope\n\u001b[90m   @ \u001b[39m\u001b[90m./\u001b[39m\u001b[90;4mIn[53]:62\u001b[0m\n\u001b[37m\u001b[1mTest Summary:                                   | \u001b[22m\u001b[39m\u001b[32m\u001b[1mPass  \u001b[22m\u001b[39m\u001b[91m\u001b[1mFail  \u001b[22m\u001b[39m\u001b[36m\u001b[1mTotal\u001b[22m\u001b[39m\nquestions                                       | \u001b[32m   7  \u001b[39m\u001b[91m   2  \u001b[39m\u001b[36m    9\u001b[39m\n  Does this cryogenic chamber make me look fat? | \u001b[32m   1  \u001b[39m      \u001b[36m    1\u001b[39m\n  Hä?                                           | \u001b[32m   1  \u001b[39m      \u001b[36m    1\u001b[39m\n  You are, what, like 15?                       | \u001b[32m   1  \u001b[39m      \u001b[36m    1\u001b[39m\n  fffbbcbeab?                                   | \u001b[32m   1  \u001b[39m      \u001b[36m    1\u001b[39m\n  4?                                            |       \u001b[91m   1  \u001b[39m\u001b[36m    1\u001b[39m\n  :) ?                                          |       \u001b[91m   1  \u001b[39m\u001b[36m    1\u001b[39m\n  Wait! Hang on. Are you going to be OK?        | \u001b[32m   1  \u001b[39m      \u001b[36m    1\u001b[39m\n  Okay if like my  spacebar  quite a bit?       | \u001b[32m   1  \u001b[39m      \u001b[36m    1\u001b[39m\n  Oida?                                         | \u001b[32m   1  \u001b[39m      \u001b[36m    1\u001b[39m\n"
                    ]
                },
                {
                    "output_type": "error",
                    "ename": "LoadError",
                    "evalue": "\u001b[91mSome tests did not pass: 7 passed, 2 failed, 0 errored, 0 broken.\u001b[39m",
                    "traceback": [
                        "\u001b[91mSome tests did not pass: 7 passed, 2 failed, 0 errored, 0 broken.\u001b[39m",
                        "",
                        "Stacktrace:",
                        " [1] finish(ts::Test.DefaultTestSet)",
                        "   @ Test /buildworker/worker/package_linux64/build/usr/share/julia/stdlib/v1.6/Test/src/Test.jl:913",
                        " [2] macro expansion",
                        "   @ /buildworker/worker/package_linux64/build/usr/share/julia/stdlib/v1.6/Test/src/Test.jl:1161 [inlined]",
                        " [3] top-level scope",
                        "   @ ./In[53]:62",
                        " [4] eval",
                        "   @ ./boot.jl:360 [inlined]",
                        " [5] include_string(mapexpr::typeof(REPL.softscope), mod::Module, code::String, filename::String)",
                        "   @ Base ./loading.jl:1094"
                    ]
                }
            ],
            "source": [
                "using Test\n",
                "\n",
                "# include(\"bob.jl\")\n",
                "\n",
                "questions = (\n",
                "        \"Does this cryogenic chamber make me look fat?\",\n",
                "        \"Hä?\",\n",
                "        \"You are, what, like 15?\",\n",
                "        \"fffbbcbeab?\",\n",
                "        \"4?\", \":) ?\",\n",
                "        \"Wait! Hang on. Are you going to be OK?\",\n",
                "        \"Okay if like my  spacebar  quite a bit?   \",\n",
                "        \"Oida?\",\n",
                ")\n",
                "\n",
                "yells = (\n",
                "        \"WATCH OUT!\",\n",
                "        \"FCECDFCAAB\",\n",
                "        \"FCÄEÜCÖDFCẞAB\",\n",
                "        \"1, 2, 3 GO!\",\n",
                "        \"ZOMG THE %^*@#\\$(*^ ZOMBIES ARE COMING!!11!!1!\",\n",
                "        \"I HATE YOU\",\n",
                "        \"I HATE THE DENTIST\",\n",
                "        \"OIDA!\",\n",
                ")\n",
                "\n",
                "silences = (\n",
                "        \"\",\n",
                "        \"          \",\n",
                "        \"\\t\\t\\t\\t\\t\\t\\t\\t\\t\\t\",\n",
                "        \"\\n\\r \\t\",\n",
                ")\n",
                "\n",
                "miscs = (\n",
                "        \"Tom-ay-to, tom-aaaah-to.\",\n",
                "        \"Let's go make out behind the gym!\",\n",
                "        \"It's OK if you don't want to work for the NSA.\",\n",
                "        \"Es ist okay, wenn du nicht für den BND arbeiten möchtest.\",\n",
                "        \"1, 2, 3\",\n",
                "        \"Ending with ? means a question.\",\n",
                "        \"\\nDoes this cryogenic chamber make me look fat?\\nno\",\n",
                "        \"         hmmmmmmm...\",\n",
                "        \"This is a statement ending with whitespace      \",\n",
                "        \"Oida.\",\n",
                ")\n",
                "\n",
                "forceful_questions = (\n",
                "        \"WHAT THE HELL WERE YOU THINKING?\",\n",
                "        \"WAS ZUR HÖLLE GEHT HIER VOR?\",\n",
                "        \"OIDA?\",\n",
                ")\n",
                "\n",
                "response = Dict(\n",
                "        :question => \"Sure.\",\n",
                "        :yelling => \"Whoa, chill out!\",\n",
                "        :silence => \"Fine. Be that way!\",\n",
                "        :misc => \"Whatever.\",\n",
                "        :forceful_question => \"Calm down, I know what I'm doing!\",\n",
                ")\n",
                "\n",
                "@testset \"questions\" begin\n",
                "    @testset \"$question\" for question in questions\n",
                "        @test bob(question) == response[:question]\n",
                "    end\n",
                "end\n",
                "\n",
                "@testset \"yelling\" begin\n",
                "    @testset \"$yell\" for yell in yells\n",
                "        @test bob(yell) == response[:yelling]\n",
                "    end\n",
                "end\n",
                "\n",
                "@testset \"silence\" begin\n",
                "    @testset \"$silence\" for silence in silences\n",
                "        @test bob(silence) == response[:silence]\n",
                "    end\n",
                "end\n",
                "\n",
                "@testset \"misc\" begin\n",
                "    @testset \"$misc\" for misc in miscs\n",
                "        @test bob(misc) == response[:misc]\n",
                "    end\n",
                "end\n",
                "\n",
                "@testset \"forceful questions\" begin\n",
                "    @testset \"$question\" for question in forceful_questions\n",
                "        @test bob(question) == response[:forceful_question]\n",
                "    end \n",
                "end"
            ]
        },
        {
            "cell_type": "markdown",
            "metadata": {},
            "source": [
                "## Prepare submission\n",
                "To submit your exercise, you need to save your solution in a file called `bob.jl` before using the CLI.\n",
                "You can either create it manually or use the following functions, which will automatically write every notebook cell that starts with `# submit` to the file `bob.jl`.\n"
            ]
        },
        {
            "cell_type": "code",
            "execution_count": null,
            "metadata": {},
            "outputs": [],
            "source": [
                "# using Pkg; Pkg.add(\"Exercism\")\n",
                "# using Exercism\n",
                "# Exercism.create_submission(\"bob\")"
            ]
        }
    ],
    "metadata": {
        "kernelspec": {
            "display_name": "Julia 1.6.0",
            "language": "julia",
            "name": "julia-1.6"
        },
        "language_info": {
            "file_extension": ".jl",
            "mimetype": "application/julia",
            "name": "julia",
            "version": "1.3.0"
        }
    },
    "nbformat": 4,
    "nbformat_minor": 2
}