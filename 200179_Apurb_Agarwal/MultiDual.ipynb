{
 "cells": [
  {
   "cell_type": "code",
   "execution_count": 49,
   "id": "3c9c048f",
   "metadata": {},
   "outputs": [
    {
     "data": {
      "text/plain": [
       "Plots.PlotlyBackend()"
      ]
     },
     "execution_count": 49,
     "metadata": {},
     "output_type": "execute_result"
    }
   ],
   "source": [
    "begin\n",
    "    using StaticArrays\n",
    "\timport Base: +, *, >, <, ==, ^\n",
    "\tusing Distributions , Random, Plots, StatsPlots\n",
    "\tplotly()\n",
    "end"
   ]
  },
  {
   "cell_type": "code",
   "execution_count": 2,
   "id": "2d41f4b9",
   "metadata": {},
   "outputs": [],
   "source": [
    "struct MultiDual{N,T}\n",
    "    val::T\n",
    "    derivs::SVector{N,T}\n",
    "end"
   ]
  },
  {
   "cell_type": "code",
   "execution_count": 3,
   "id": "cee26a75",
   "metadata": {},
   "outputs": [],
   "source": [
    "begin\n",
    "\tfunction Base.:+(f::MultiDual{N,T}, g::MultiDual{N,T}) where {N,T}\n",
    "    \treturn MultiDual{N,T}(f.val + g.val, f.derivs + g.derivs)\n",
    "\tend\n",
    "\n",
    "\tfunction Base.:*(f::MultiDual{N,T}, g::MultiDual{N,T}) where {N,T}\n",
    "    \treturn MultiDual{N,T}(f.val * g.val, f.val .* g.derivs + g.val .* f.derivs)\n",
    "\tend\n",
    "\t\n",
    "\tBase.:^(f::MultiDual{N, T}, n::Integer) where {N,T} = Base.power_by_squaring(f, n)\n",
    "\t\n",
    "\n",
    "\tfunction Base.:*(f::MultiDual{N,T}, α::Number) where {N,T}\n",
    "    \treturn MultiDual{N,T}(f.val * α, f.derivs .* α)\n",
    "\tend\n",
    "\n",
    "\tBase.:*(α::Number, f::MultiDual{N, T}) where {N, T} = f*α\t\n",
    "\n",
    "end"
   ]
  },
  {
   "cell_type": "code",
   "execution_count": 4,
   "id": "c6529802",
   "metadata": {},
   "outputs": [
    {
     "data": {
      "text/plain": [
       "MultiDual{2, Int64}(25, [6, 8])"
      ]
     },
     "execution_count": 4,
     "metadata": {},
     "output_type": "execute_result"
    }
   ],
   "source": [
    "x = MultiDual(3,SVector(1,0))\n",
    "y = MultiDual(4,SVector(0,1))\n",
    "x*x + y*y"
   ]
  },
  {
   "cell_type": "code",
   "execution_count": 5,
   "id": "e01b22e8",
   "metadata": {},
   "outputs": [
    {
     "data": {
      "text/plain": [
       "2"
      ]
     },
     "execution_count": 5,
     "metadata": {},
     "output_type": "execute_result"
    }
   ],
   "source": [
    "a = SVector(1,2)\n",
    "length(a)"
   ]
  },
  {
   "cell_type": "code",
   "execution_count": null,
   "id": "889ea26f",
   "metadata": {},
   "outputs": [],
   "source": []
  },
  {
   "cell_type": "code",
   "execution_count": null,
   "id": "d79a7012",
   "metadata": {},
   "outputs": [],
   "source": []
  },
  {
   "cell_type": "markdown",
   "id": "a56c4251",
   "metadata": {},
   "source": [
    "# Show"
   ]
  },
  {
   "cell_type": "code",
   "execution_count": 16,
   "id": "7d784bb6",
   "metadata": {},
   "outputs": [
    {
     "data": {
      "text/plain": [
       "show (generic function with 1 method)"
      ]
     },
     "execution_count": 16,
     "metadata": {},
     "output_type": "execute_result"
    }
   ],
   "source": [
    "function show(f::MultiDual{N,T}) where {N,T}\n",
    "    print(f.val)\n",
    "    print(\"  \")\n",
    "    print(f.derivs)\n",
    "end"
   ]
  },
  {
   "cell_type": "code",
   "execution_count": 17,
   "id": "8ac27a81",
   "metadata": {},
   "outputs": [
    {
     "name": "stdout",
     "output_type": "stream",
     "text": [
      "3  [1, 0]"
     ]
    }
   ],
   "source": [
    "show(MultiDual(3, SVector(1,0)))"
   ]
  },
  {
   "cell_type": "markdown",
   "id": "286d7a38",
   "metadata": {},
   "source": [
    "# Jacobian"
   ]
  },
  {
   "cell_type": "code",
   "execution_count": null,
   "id": "a6df861b",
   "metadata": {},
   "outputs": [],
   "source": []
  },
  {
   "cell_type": "code",
   "execution_count": null,
   "id": "36a57be0",
   "metadata": {},
   "outputs": [],
   "source": []
  },
  {
   "cell_type": "markdown",
   "id": "61512a9a",
   "metadata": {},
   "source": [
    "# Log"
   ]
  },
  {
   "cell_type": "code",
   "execution_count": 6,
   "id": "773503e1",
   "metadata": {},
   "outputs": [
    {
     "data": {
      "text/plain": [
       "MultiDual_Log (generic function with 1 method)"
      ]
     },
     "execution_count": 6,
     "metadata": {},
     "output_type": "execute_result"
    }
   ],
   "source": [
    "function MultiDual_Log(f::MultiDual{N,T}) where {N,T}\n",
    "    return MultiDual{N,T}(log(f.val), (f*(1/f.val)).derivs)\n",
    "end"
   ]
  },
  {
   "cell_type": "code",
   "execution_count": 12,
   "id": "f60c76ca",
   "metadata": {},
   "outputs": [
    {
     "data": {
      "text/plain": [
       "MultiDual{2, Float64}(0.6931471805599453, [0.5, 0.0])"
      ]
     },
     "execution_count": 12,
     "metadata": {},
     "output_type": "execute_result"
    }
   ],
   "source": [
    "x = MultiDual(2.0, SVector(1.0,0.0))\n",
    "MultiDual_Log(x)"
   ]
  },
  {
   "cell_type": "code",
   "execution_count": null,
   "id": "c59f3f60",
   "metadata": {},
   "outputs": [],
   "source": []
  },
  {
   "cell_type": "markdown",
   "id": "e7fa90ab",
   "metadata": {},
   "source": [
    "# Exp"
   ]
  },
  {
   "cell_type": "code",
   "execution_count": 21,
   "id": "23e739e2",
   "metadata": {},
   "outputs": [
    {
     "data": {
      "text/plain": [
       "Exp (generic function with 1 method)"
      ]
     },
     "execution_count": 21,
     "metadata": {},
     "output_type": "execute_result"
    }
   ],
   "source": [
    "function Exp(f::MultiDual{N,T}) where {N,T}\n",
    "    return MultiDual{N,T}(exp(f.val), (f*exp(f.val)).derivs)\n",
    "end"
   ]
  },
  {
   "cell_type": "code",
   "execution_count": 22,
   "id": "f95185f2",
   "metadata": {},
   "outputs": [
    {
     "name": "stdout",
     "output_type": "stream",
     "text": [
      "7.38905609893065  [7.38905609893065, 0.0]"
     ]
    }
   ],
   "source": [
    "x = MultiDual(2.0, SVector(1.0,0.0))\n",
    "show(Exp(x))"
   ]
  },
  {
   "cell_type": "code",
   "execution_count": 18,
   "id": "d7504627",
   "metadata": {},
   "outputs": [
    {
     "data": {
      "text/plain": [
       "7.38905609893065"
      ]
     },
     "execution_count": 18,
     "metadata": {},
     "output_type": "execute_result"
    }
   ],
   "source": [
    "exp(2)"
   ]
  },
  {
   "cell_type": "code",
   "execution_count": null,
   "id": "3fed06ac",
   "metadata": {},
   "outputs": [],
   "source": []
  },
  {
   "cell_type": "markdown",
   "id": "d639aea2",
   "metadata": {},
   "source": [
    "# Sin"
   ]
  },
  {
   "cell_type": "code",
   "execution_count": 24,
   "id": "bf42a4e2",
   "metadata": {},
   "outputs": [
    {
     "data": {
      "text/plain": [
       "Sin (generic function with 1 method)"
      ]
     },
     "execution_count": 24,
     "metadata": {},
     "output_type": "execute_result"
    }
   ],
   "source": [
    "function Sin(f::MultiDual{N,T}) where {N,T}\n",
    "    return MultiDual{N,T}(sin(f.val), (f*cos(f.val)).derivs)\n",
    "end"
   ]
  },
  {
   "cell_type": "code",
   "execution_count": 25,
   "id": "d148fec7",
   "metadata": {},
   "outputs": [
    {
     "data": {
      "text/plain": [
       "MultiDual{3, Float64}(0.9092974268256817, [-0.4161468365471424, -0.0, -0.0])"
      ]
     },
     "execution_count": 25,
     "metadata": {},
     "output_type": "execute_result"
    }
   ],
   "source": [
    "x = MultiDual(2.0 , SVector(1.0,0.0,0.0))\n",
    "Sin(x)"
   ]
  },
  {
   "cell_type": "code",
   "execution_count": 23,
   "id": "c4d44379",
   "metadata": {},
   "outputs": [
    {
     "data": {
      "text/plain": [
       "0.9092974268256817"
      ]
     },
     "execution_count": 23,
     "metadata": {},
     "output_type": "execute_result"
    }
   ],
   "source": [
    "sin(2)"
   ]
  },
  {
   "cell_type": "code",
   "execution_count": null,
   "id": "3c6cf400",
   "metadata": {},
   "outputs": [],
   "source": []
  },
  {
   "cell_type": "markdown",
   "id": "8bb3dbad",
   "metadata": {},
   "source": [
    "# Cos"
   ]
  },
  {
   "cell_type": "code",
   "execution_count": 26,
   "id": "d9da602b",
   "metadata": {},
   "outputs": [
    {
     "data": {
      "text/plain": [
       "Cos (generic function with 1 method)"
      ]
     },
     "execution_count": 26,
     "metadata": {},
     "output_type": "execute_result"
    }
   ],
   "source": [
    "function Cos(f::MultiDual{N,T}) where {N,T}\n",
    "    return MultiDual{N,T}(cos(f.val), (f*(-1)*sin(f.val)).derivs)\n",
    "end"
   ]
  },
  {
   "cell_type": "code",
   "execution_count": 27,
   "id": "5424b012",
   "metadata": {},
   "outputs": [
    {
     "name": "stdout",
     "output_type": "stream",
     "text": [
      "-0.4161468365471424  [-0.9092974268256817, -0.0]"
     ]
    }
   ],
   "source": [
    "x = MultiDual(2.0, SVector(1.0,0.0))\n",
    "show(Cos(x))"
   ]
  },
  {
   "cell_type": "code",
   "execution_count": null,
   "id": "f8b2df69",
   "metadata": {},
   "outputs": [],
   "source": []
  },
  {
   "cell_type": "markdown",
   "id": "d2ed8fc9",
   "metadata": {},
   "source": [
    "# Comparison between MultiDuals"
   ]
  },
  {
   "cell_type": "code",
   "execution_count": 40,
   "id": "257310d5",
   "metadata": {},
   "outputs": [],
   "source": [
    "function Base.:>(f::MultiDual{N,T}, g::MultiDual{N,T}) where {N,T}\n",
    "    if f.val>g.val\n",
    "        return true\n",
    "    end\n",
    "    if g.val>=f.val\n",
    "        return false\n",
    "    end\n",
    "end"
   ]
  },
  {
   "cell_type": "code",
   "execution_count": 43,
   "id": "b9c7e7bc",
   "metadata": {},
   "outputs": [],
   "source": [
    "function Base.:<(f::MultiDual{N,T}, g::MultiDual{N,T}) where {N,T}\n",
    "    if f.val<g.val\n",
    "        return true\n",
    "    end\n",
    "    if g.val<=f.val\n",
    "        return false\n",
    "    end\n",
    "end"
   ]
  },
  {
   "cell_type": "code",
   "execution_count": 42,
   "id": "ecb03e26",
   "metadata": {},
   "outputs": [],
   "source": [
    "function Base.:(==)(f::MultiDual{N,T}, g::MultiDual{N,T}) where {N,T}\n",
    "    if f.val==g.val && f.derivs==g.derivs\n",
    "        return true\n",
    "    else\n",
    "        return false\n",
    "    end\n",
    "end"
   ]
  },
  {
   "cell_type": "code",
   "execution_count": 46,
   "id": "1b676b07",
   "metadata": {},
   "outputs": [
    {
     "data": {
      "text/plain": [
       "true"
      ]
     },
     "execution_count": 46,
     "metadata": {},
     "output_type": "execute_result"
    }
   ],
   "source": [
    "MultiDual(2.0, SVector(1.0,0.0)) == MultiDual(2.0, SVector(1.0,0.0))"
   ]
  },
  {
   "cell_type": "code",
   "execution_count": 34,
   "id": "94d6cad7",
   "metadata": {},
   "outputs": [
    {
     "data": {
      "text/plain": [
       "false"
      ]
     },
     "execution_count": 34,
     "metadata": {},
     "output_type": "execute_result"
    }
   ],
   "source": [
    ">(MultiDual(2.0, SVector(1.0,0.0)), MultiDual(3.0, SVector(0.0,1.0)))"
   ]
  },
  {
   "cell_type": "code",
   "execution_count": 38,
   "id": "e0a76747",
   "metadata": {},
   "outputs": [
    {
     "data": {
      "text/plain": [
       "true"
      ]
     },
     "execution_count": 38,
     "metadata": {},
     "output_type": "execute_result"
    }
   ],
   "source": [
    "SVector(1,0)==SVector(1,0)"
   ]
  },
  {
   "cell_type": "markdown",
   "id": "8eae7e70",
   "metadata": {},
   "source": [
    "# Powers"
   ]
  },
  {
   "cell_type": "code",
   "execution_count": 50,
   "id": "b94cfc47",
   "metadata": {},
   "outputs": [],
   "source": [
    "function Base.:^(f::MultiDual{N,T}, a) where {N,T}\n",
    "    return MultiDual(f.val^a, (f*a*(f.val^(a-1))).derivs)\n",
    "end"
   ]
  },
  {
   "cell_type": "code",
   "execution_count": 51,
   "id": "ddc1da2a",
   "metadata": {},
   "outputs": [
    {
     "data": {
      "text/plain": [
       "MultiDual{2, Float64}(9.0, [6.0, 0.0])"
      ]
     },
     "execution_count": 51,
     "metadata": {},
     "output_type": "execute_result"
    }
   ],
   "source": [
    "MultiDual(3.0, SVector(1.0,0.0))^2"
   ]
  }
 ],
 "metadata": {
  "kernelspec": {
   "display_name": "Julia 1.6.1",
   "language": "julia",
   "name": "julia-1.6"
  },
  "language_info": {
   "file_extension": ".jl",
   "mimetype": "application/julia",
   "name": "julia",
   "version": "1.6.1"
  }
 },
 "nbformat": 4,
 "nbformat_minor": 5
}
