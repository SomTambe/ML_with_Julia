{
 "cells": [
  {
   "cell_type": "code",
   "execution_count": 166,
   "metadata": {},
   "outputs": [],
   "source": [
    "begin \n",
    "    using StaticArrays, LinearAlgebra\n",
    "    import Base: +,-,*\n",
    "end "
   ]
  },
  {
   "cell_type": "code",
   "execution_count": 167,
   "metadata": {},
   "outputs": [],
   "source": [
    "#MultiDual struct defined\n",
    "struct MultiDual{N,T} <: Number\n",
    "    val::T\n",
    "    derivs::SVector{N,T}\n",
    "end "
   ]
  },
  {
   "cell_type": "code",
   "execution_count": 168,
   "metadata": {},
   "outputs": [],
   "source": [
    "#Show method for MultiDual Numbers\n",
    "Base.show(io::IO,x::MultiDual) = print(io,x.val,\" + \",x.derivs,\" ε\")"
   ]
  },
  {
   "cell_type": "code",
   "execution_count": 169,
   "metadata": {},
   "outputs": [],
   "source": [
    "begin\n",
    "    import Base:convert,promote_rule\n",
    "    Base.convert(::Type{MultiDual{N,T}}, x::T) where {N, T<:Real} = MultiDual(x, zeros(SVector{N,T}));\n",
    "    Base.promote_rule(::Type{MultiDual{N,T}} , ::Type{T}) where {N,T<:Real}=MultiDual{N,T};\n",
    "end"
   ]
  },
  {
   "cell_type": "code",
   "execution_count": 170,
   "metadata": {},
   "outputs": [
    {
     "data": {
      "text/plain": [
       "2"
      ]
     },
     "execution_count": 170,
     "metadata": {},
     "output_type": "execute_result"
    }
   ],
   "source": [
    "b=2"
   ]
  },
  {
   "cell_type": "code",
   "execution_count": 171,
   "metadata": {},
   "outputs": [
    {
     "data": {
      "text/plain": [
       "2 + [1, 0] ε"
      ]
     },
     "execution_count": 171,
     "metadata": {},
     "output_type": "execute_result"
    }
   ],
   "source": [
    "a= MultiDual(2,SVector(1,0))"
   ]
  },
  {
   "cell_type": "code",
   "execution_count": 193,
   "metadata": {},
   "outputs": [
    {
     "data": {
      "text/plain": [
       "4 + [1, 0] ε"
      ]
     },
     "execution_count": 193,
     "metadata": {},
     "output_type": "execute_result"
    }
   ],
   "source": [
    "a+b"
   ]
  },
  {
   "cell_type": "code",
   "execution_count": 172,
   "metadata": {},
   "outputs": [],
   "source": [
    "function Base.:+(f::MultiDual{N,T}, g::MultiDual{N,T}) where {N,T}    # Defining Addition for MultiDual Numbers\n",
    "    return MultiDual{N,T}(f.val + g.val, f.derivs + g.derivs)\n",
    "end"
   ]
  },
  {
   "cell_type": "code",
   "execution_count": 173,
   "metadata": {},
   "outputs": [],
   "source": [
    "function Base.:*(f::MultiDual{N,T}, g::MultiDual{N,T}) where {N,T}    #Defining Multiplication for MultiDual Numbers\n",
    "        return MultiDual{N,T}(f.val * g.val, f.val .* g.derivs + g.val .* f.derivs)\n",
    "    end"
   ]
  },
  {
   "cell_type": "code",
   "execution_count": 174,
   "metadata": {},
   "outputs": [],
   "source": [
    "function Base.:/(f::MultiDual{N,T}, g::MultiDual{N,T}) where {N,T}    #Defining Division for MultiDual Numbers\n",
    "    return MultiDual{N,Float64}(f.val/g.val, (g.val*f.derivs-f.val*g.derivs)/(g.val*g.val))\n",
    "end\n"
   ]
  },
  {
   "cell_type": "code",
   "execution_count": 175,
   "metadata": {},
   "outputs": [
    {
     "data": {
      "text/plain": [
       "1.0 + [0.5, -0.5] ε"
      ]
     },
     "execution_count": 175,
     "metadata": {},
     "output_type": "execute_result"
    }
   ],
   "source": [
    "m=MultiDual(2,SVector(1,0))\n",
    "n=MultiDual(2,SVector(0,1))\n",
    "m/n"
   ]
  },
  {
   "cell_type": "code",
   "execution_count": 176,
   "metadata": {},
   "outputs": [],
   "source": [
    "function Base.:-(f::MultiDual{N,T}, g::MultiDual{N,T}) where {N,T}  #Subtraction\n",
    "    return MultiDual{N,T}(f.val-g.val, f.derivs-g.derivs)\n",
    "end\n"
   ]
  },
  {
   "cell_type": "code",
   "execution_count": 177,
   "metadata": {},
   "outputs": [],
   "source": [
    "function Base.:sin(f::MultiDual{N,T}) where {N,T}          # sin() function\n",
    "    return MultiDual(sin(f.val), cos(f.val)*f.derivs)\n",
    "end"
   ]
  },
  {
   "cell_type": "code",
   "execution_count": 178,
   "metadata": {},
   "outputs": [],
   "source": [
    "function Base.:cos(f::MultiDual{N,T}) where {N,T}     # cos() function\n",
    "    return MultiDual(cos(f.val),-sin(f.val)*f.derivs)\n",
    "end"
   ]
  },
  {
   "cell_type": "code",
   "execution_count": 179,
   "metadata": {},
   "outputs": [],
   "source": [
    "function Base.:exp(f::MultiDual{N,T}) where {N,T}     # exp() function\n",
    "    return MultiDual(exp(f.val),exp(f.val)*f.derivs)\n",
    "end"
   ]
  },
  {
   "cell_type": "code",
   "execution_count": 180,
   "metadata": {},
   "outputs": [],
   "source": [
    "function Base.:log(f::MultiDual{N,T}) where {N,T}     # log() function\n",
    "    return MultiDual(log(f.val),(1/(f.val))*f.derivs)\n",
    "end"
   ]
  },
  {
   "cell_type": "code",
   "execution_count": 181,
   "metadata": {},
   "outputs": [],
   "source": [
    "function Base.:abs(f::MultiDual{N,T}) where {N,T}    # abs() function\n",
    "    return MultiDual{N,T}(abs(f.val), f.val>0 ? f.derivs : -f.derivs)\n",
    "end"
   ]
  },
  {
   "cell_type": "code",
   "execution_count": 182,
   "metadata": {},
   "outputs": [],
   "source": [
    "function Base.:^(f::MultiDual{N,T}, n::Int64) where {N,T} # ^ function for non integral powers too\n",
    "    return MultiDual((f.val)^n, (n*(f.val)^(n-1))*f.derivs )\n",
    "end"
   ]
  },
  {
   "cell_type": "code",
   "execution_count": 183,
   "metadata": {},
   "outputs": [],
   "source": [
    "#Comparisons between MultiDual and Number\n",
    "\n",
    "function Base.:<(f::MultiDual{N,T}, n::Number) where {N,T} \n",
    "    return f.val<n;\n",
    "end\n",
    "\n",
    "function Base.:<(n::Number, f::MultiDual{N,T}) where {N,T}\n",
    "      return !(f<n);\n",
    "end\n",
    "\n",
    "function Base.:>(f::MultiDual{N,T}, n::Number) where {N,T}\n",
    "    return (n<f);\n",
    "end\n",
    "\n",
    "function Base.:>(n::Number, f::MultiDual{N,T}) where {N,T}\n",
    "    return (f<n);\n",
    "end\n",
    "\n"
   ]
  },
  {
   "cell_type": "code",
   "execution_count": 184,
   "metadata": {},
   "outputs": [],
   "source": [
    "#Comparisons between two MultiDual Numbers\n",
    "\n",
    "function Base.:<(f::MultiDual{N,T}, g::MultiDual{N,T}) where {N,T}\n",
    "    return (f.val<g.val)\n",
    "end\n",
    "\n",
    "\n",
    "function Base.:>(f::MultiDual{N,T}, g::MultiDual{N,T}) where {N,T}\n",
    "    return (f.val>g.val)\n",
    "end\n",
    "\n"
   ]
  },
  {
   "cell_type": "code",
   "execution_count": 185,
   "metadata": {},
   "outputs": [
    {
     "data": {
      "text/plain": [
       "h (generic function with 1 method)"
      ]
     },
     "execution_count": 185,
     "metadata": {},
     "output_type": "execute_result"
    }
   ],
   "source": [
    "h(x, y) = x + y"
   ]
  },
  {
   "cell_type": "code",
   "execution_count": 186,
   "metadata": {},
   "outputs": [
    {
     "data": {
      "text/plain": [
       "grad (generic function with 1 method)"
      ]
     },
     "execution_count": 186,
     "metadata": {},
     "output_type": "execute_result"
    }
   ],
   "source": [
    "grad(f,p,q) = f(MultiDual(p, SVector(one(p),zero(p))), MultiDual(q, SVector(zero(q),one(q)))).derivs"
   ]
  },
  {
   "cell_type": "code",
   "execution_count": 187,
   "metadata": {},
   "outputs": [
    {
     "data": {
      "text/plain": [
       "5 + [1, 1] ε"
      ]
     },
     "execution_count": 187,
     "metadata": {},
     "output_type": "execute_result"
    }
   ],
   "source": [
    "begin\n",
    "    x=MultiDual(3, SVector(1,0))\n",
    "    y=MultiDual(2, SVector(0,1))\n",
    "    h(x,y)\n",
    "end"
   ]
  },
  {
   "cell_type": "code",
   "execution_count": 188,
   "metadata": {},
   "outputs": [
    {
     "data": {
      "text/plain": [
       "2-element SVector{2, Int64} with indices SOneTo(2):\n",
       " 12\n",
       "  9"
      ]
     },
     "execution_count": 188,
     "metadata": {},
     "output_type": "execute_result"
    }
   ],
   "source": [
    "grad((p,q)->p^2*q,3,2)"
   ]
  },
  {
   "cell_type": "code",
   "execution_count": 189,
   "metadata": {},
   "outputs": [
    {
     "data": {
      "text/plain": [
       "true"
      ]
     },
     "execution_count": 189,
     "metadata": {},
     "output_type": "execute_result"
    }
   ],
   "source": [
    "p=2\n",
    "q=MultiDual(4,SVector(1,0))\n",
    "r=MultiDual(3,SVector(0,1))\n",
    "q>r"
   ]
  },
  {
   "cell_type": "code",
   "execution_count": 190,
   "metadata": {},
   "outputs": [
    {
     "data": {
      "text/plain": [
       "Jacobian (generic function with 1 method)"
      ]
     },
     "execution_count": 190,
     "metadata": {},
     "output_type": "execute_result"
    }
   ],
   "source": [
    "#Jacobian for 2 variables\n",
    "\n",
    "function JacobianMat(F,u,v)\n",
    "   return [grad((x,y)->F(x,y)[1],u,v) grad((x,y)->F(x,y)[2],u,v)];\n",
    "end\n",
    "    \n",
    "function Jacobian(F,u,v)\n",
    "    return det(JacobianMat(F,u,v));\n",
    "end"
   ]
  },
  {
   "cell_type": "code",
   "execution_count": 191,
   "metadata": {},
   "outputs": [
    {
     "data": {
      "text/plain": [
       "X (generic function with 1 method)"
      ]
     },
     "execution_count": 191,
     "metadata": {},
     "output_type": "execute_result"
    }
   ],
   "source": [
    "X(x,y)=[x^2+y^2 x*y^2]"
   ]
  },
  {
   "cell_type": "code",
   "execution_count": 192,
   "metadata": {},
   "outputs": [
    {
     "data": {
      "text/plain": [
       "-6.0"
      ]
     },
     "execution_count": 192,
     "metadata": {},
     "output_type": "execute_result"
    }
   ],
   "source": [
    "A=Jacobian(X,2,3)"
   ]
  }
 ],
 "metadata": {
  "kernelspec": {
   "display_name": "Julia 1.6.1",
   "language": "julia",
   "name": "julia-1.6"
  },
  "language_info": {
   "file_extension": ".jl",
   "mimetype": "application/julia",
   "name": "julia",
   "version": "1.6.1"
  }
 },
 "nbformat": 4,
 "nbformat_minor": 4
}
