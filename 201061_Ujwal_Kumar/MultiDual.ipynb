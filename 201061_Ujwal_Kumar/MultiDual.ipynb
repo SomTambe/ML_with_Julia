{
 "cells": [
  {
   "cell_type": "markdown",
   "id": "d416268c",
   "metadata": {},
   "source": [
    "## Importing required Libraries\n"
   ]
  },
  {
   "cell_type": "code",
   "execution_count": 1,
   "id": "a890efd2",
   "metadata": {},
   "outputs": [
    {
     "name": "stderr",
     "output_type": "stream",
     "text": [
      "┌ Info: For saving to png with the Plotly backend PlotlyBase has to be installed.\n",
      "└ @ Plots C:\\Users\\Hp\\.julia\\packages\\Plots\\ldLtW\\src\\backends.jl:374\n"
     ]
    },
    {
     "data": {
      "text/plain": [
       "Plots.PlotlyBackend()"
      ]
     },
     "execution_count": 1,
     "metadata": {},
     "output_type": "execute_result"
    }
   ],
   "source": [
    "using StaticArrays\n",
    "\tusing PlutoUI\n",
    "\timport Base: +, *\n",
    "\tusing Distributions, Random, Plots, StatsPlots\n",
    "\tplotly()"
   ]
  },
  {
   "cell_type": "markdown",
   "id": "70928681",
   "metadata": {},
   "source": [
    "### Defining the struct - MultiDual"
   ]
  },
  {
   "cell_type": "code",
   "execution_count": 3,
   "id": "a10a5f68",
   "metadata": {},
   "outputs": [],
   "source": [
    "struct MultiDual{N,T} # N-> Size of the vector, T -> DataType of the vector\n",
    "    val::T\n",
    "    derivs::SVector{N,T}\n",
    "end"
   ]
  },
  {
   "cell_type": "markdown",
   "id": "bc9f9f6d",
   "metadata": {},
   "source": [
    "Basic Functions defined on MultiDual "
   ]
  },
  {
   "cell_type": "code",
   "execution_count": 36,
   "id": "6c0a5064",
   "metadata": {},
   "outputs": [],
   "source": [
    "function Base.:+(f::MultiDual{N,T}, g::MultiDual{N,T}) where {N,T} # Takes in two Multiduals and performs the addition operation\n",
    "    return MultiDual{N,T}(f.val + g.val, f.derivs + g.derivs)      # Returns a MultiDual\n",
    "end\n",
    "\t\n",
    "function Base.:-(f::MultiDual{N,T}, g::MultiDual{N,T}) where {N,T} # Similar to addition operation\n",
    "    return MultiDual{N,T}(f.val - g.val, f.derivs - g.derivs)\n",
    "end\n",
    "\n",
    "function Base.:*(f::MultiDual{N,T}, g::MultiDual{N,T}) where {N,T} # Takes in two MultiDuals and performs the multiplication operation.\n",
    "    return MultiDual{N,T}(f.val * g.val, f.val .* g.derivs + g.val .* f.derivs)\n",
    "end\n",
    "\n",
    "function Base.:*(f::MultiDual{N,T}, α::Number) where {N,T}  # Performs multipplication operation with a scalar\n",
    "    return MultiDual{N,T}(f.val * α, f.derivs .* α)\n",
    "end\n",
    "\n",
    "Base.:^(f::MultiDual{N, T}, n::Integer) where {N,T} = Base.power_by_squaring(f, n)\n",
    "\n",
    "Base.:*(α::Number, f::MultiDual{N, T}) where {N, T} = f*α   # We have to define two different methods for the two permutations \n",
    "                                                            # of α and MultiDual , promote_rule eliminates this problem .\n"
   ]
  },
  {
   "cell_type": "markdown",
   "id": "97fb80f5",
   "metadata": {},
   "source": [
    "### Throwing a show method to display a MultiDual\n",
    "\n",
    "Reference : [I/O](https://docs.julialang.org/en/v1/base/io-network/)"
   ]
  },
  {
   "cell_type": "code",
   "execution_count": 8,
   "id": "c0e498f4",
   "metadata": {},
   "outputs": [],
   "source": [
    "function Base.show(io::IO, ::MIME\"text/plain\", x::MultiDual{N,T}) where {N,T}   # Writing a similar code as given in the reference link .\n",
    "\tprintln(io, \"MultiDual : \", x.val, \" + \", x.derivs,\"ϵ\") \n",
    "end"
   ]
  },
  {
   "cell_type": "markdown",
   "id": "98ee3fed",
   "metadata": {},
   "source": [
    "Defining *a* & *b* as MultiDuals"
   ]
  },
  {
   "cell_type": "code",
   "execution_count": 30,
   "id": "71c897a8",
   "metadata": {},
   "outputs": [
    {
     "data": {
      "text/plain": [
       "MultiDual : 3.0 + [1.0, 0.0]ϵ\n"
      ]
     },
     "execution_count": 30,
     "metadata": {},
     "output_type": "execute_result"
    }
   ],
   "source": [
    "a=MultiDual(3.0,SVector(1.0,0.0))"
   ]
  },
  {
   "cell_type": "code",
   "execution_count": 10,
   "id": "e33f4d50",
   "metadata": {},
   "outputs": [
    {
     "data": {
      "text/plain": [
       "MultiDual : 4.0 + [0.0, 1.0]ϵ\n"
      ]
     },
     "execution_count": 10,
     "metadata": {},
     "output_type": "execute_result"
    }
   ],
   "source": [
    "b=MultiDual(4.0,SVector(0.0,1.0))"
   ]
  },
  {
   "cell_type": "markdown",
   "id": "c6a7e7e5",
   "metadata": {},
   "source": [
    "### Defining some more functions on MultiDual\n",
    "The following functions have been defined :\n",
    "- Jacobians\n",
    "- log\n",
    "- exp\n",
    "- sin, cos\n",
    "- abs\n",
    "- ^(for non integral powers too) "
   ]
  },
  {
   "cell_type": "code",
   "execution_count": 11,
   "id": "ca45d573",
   "metadata": {},
   "outputs": [],
   "source": [
    "# Defining the functions over MultiDual\n",
    "function Base.:log(f::MultiDual{N,T}) where {N,T}\n",
    "    return MultiDual(log(f.val), inv(f.val) .*f.derivs)\n",
    "end\n",
    "\n",
    "\n",
    "function Base.:exp(f::MultiDual{N,T}) where {N,T}\n",
    "    return MultiDual(exp(f.val), exp(f.val)*f.derivs)\n",
    "end\n",
    "\n",
    "function Base.:sin(f::MultiDual{N,T}) where {N,T}\n",
    "    return MultiDual(sin(f.val),cos(f.val)*f.derivs)\n",
    "end\n",
    "\n",
    "function Base.:cos(f::MultiDual{N,T}) where {N,T}\n",
    "\treturn MultiDual(cos(f.val),-sin(f.val)*f.derivs)\n",
    "end\t\n",
    "\n",
    "function Base.:^(f::MultiDual{N,T} , a ::Real) where {N,T}\n",
    "\treturn MultiDual((f.val)^a,(a)*((f.val)^(a-1))*f.derivs)\n",
    "end\n",
    "\n",
    "function Base.:abs(f::MultiDual{N,T}) where {N,T}\n",
    "\treturn MultiDual(abs(f.val),f.derivs)\n",
    "end\n",
    "\t\n",
    "function Base.:/(f::MultiDual{N,T} , g::MultiDual{N,T}) where {N,T}\n",
    "\treturn MultiDual(f.val/g.val,(f.derivs*g.val-f.val*g.derivs)/g.val*g.val)\n",
    "end"
   ]
  },
  {
   "cell_type": "markdown",
   "id": "a471651e",
   "metadata": {},
   "source": [
    "Applying the defined functions over a & b."
   ]
  },
  {
   "cell_type": "code",
   "execution_count": 12,
   "id": "c1a105cb",
   "metadata": {},
   "outputs": [
    {
     "data": {
      "text/plain": [
       "MultiDual : 0.1411200080598672 + [-0.9899924966004454, -0.0]ϵ\n"
      ]
     },
     "execution_count": 12,
     "metadata": {},
     "output_type": "execute_result"
    }
   ],
   "source": [
    "sin(a)"
   ]
  },
  {
   "cell_type": "code",
   "execution_count": 13,
   "id": "116c6a50",
   "metadata": {},
   "outputs": [
    {
     "data": {
      "text/plain": [
       "MultiDual : -0.9899924966004454 + [-0.1411200080598672, -0.0]ϵ\n"
      ]
     },
     "execution_count": 13,
     "metadata": {},
     "output_type": "execute_result"
    }
   ],
   "source": [
    "cos(a)"
   ]
  },
  {
   "cell_type": "code",
   "execution_count": 14,
   "id": "878a7263",
   "metadata": {},
   "outputs": [
    {
     "data": {
      "text/plain": [
       "MultiDual : 0.9999999999999999 + [0.0, 0.0]ϵ\n"
      ]
     },
     "execution_count": 14,
     "metadata": {},
     "output_type": "execute_result"
    }
   ],
   "source": [
    "sin(a)^2+cos(a)^2"
   ]
  },
  {
   "cell_type": "code",
   "execution_count": 15,
   "id": "927fb137",
   "metadata": {},
   "outputs": [
    {
     "data": {
      "text/plain": [
       "MultiDual : 2.0 + [1.0, 2.0]ϵ\n"
      ]
     },
     "execution_count": 15,
     "metadata": {},
     "output_type": "execute_result"
    }
   ],
   "source": [
    "c=MultiDual(-2.0,SVector(1.0,2.0))\n",
    "abs(c)"
   ]
  },
  {
   "cell_type": "code",
   "execution_count": 16,
   "id": "6596c0e0",
   "metadata": {},
   "outputs": [
    {
     "data": {
      "text/plain": [
       "MultiDual : 20.085536923187668 + [20.085536923187668, 0.0]ϵ\n"
      ]
     },
     "execution_count": 16,
     "metadata": {},
     "output_type": "execute_result"
    }
   ],
   "source": [
    "exp(a)"
   ]
  },
  {
   "cell_type": "code",
   "execution_count": 17,
   "id": "4ea2c169",
   "metadata": {},
   "outputs": [
    {
     "data": {
      "text/plain": [
       "MultiDual : 1.3862943611198906 + [0.0, 0.25]ϵ\n"
      ]
     },
     "execution_count": 17,
     "metadata": {},
     "output_type": "execute_result"
    }
   ],
   "source": [
    "log(b)"
   ]
  },
  {
   "cell_type": "markdown",
   "id": "8babc6d3",
   "metadata": {},
   "source": [
    "Using ``` convert ``` and ``` promote_rule ``` rule which would eliminate the need of defining two different methods of ```+(::MultiDual, ::Real) ``` and ``` +(::Real, ::MultiDual) ``` . The ``` promote_rule ``` function takes a pair of type objects and returns another type object, such that instances of the argument types will be promoted to the returned type.\n",
    "\n",
    "[Promotion and Conversion](https://docs.julialang.org/en/v1/manual/conversion-and-promotion/)"
   ]
  },
  {
   "cell_type": "code",
   "execution_count": 18,
   "id": "81e636e7",
   "metadata": {},
   "outputs": [],
   "source": [
    "import Base:convert,promote_rule\n",
    "Base.convert(::Type{MultiDual{N, T}}, x::T) where {N, T<:Number} = MultiDual(x, zeros(SVector{N, T}))\n",
    "Base.promote_rule(::Type{MultiDual{N,T}} , ::Type{T}) where {N,T<:Number}=MultiDual{N,T}"
   ]
  },
  {
   "cell_type": "code",
   "execution_count": 22,
   "id": "bd3ecd3e",
   "metadata": {},
   "outputs": [
    {
     "data": {
      "text/plain": [
       "MultiDual : 6 + [1, 0]ϵ\n"
      ]
     },
     "execution_count": 22,
     "metadata": {},
     "output_type": "execute_result"
    }
   ],
   "source": [
    "+(promote(a,3)...)   # We can see that the promote rule works well , \n",
    "                    # it promotes the real number 3 into MultiDual and then performs the addition operation for two multiduals."
   ]
  },
  {
   "cell_type": "code",
   "execution_count": 23,
   "id": "ecfb0030",
   "metadata": {},
   "outputs": [
    {
     "data": {
      "text/plain": [
       "MultiDual : 0.0 + [0.0, -1.0]ϵ\n"
      ]
     },
     "execution_count": 23,
     "metadata": {},
     "output_type": "execute_result"
    }
   ],
   "source": [
    "-(promote(4.0,b)...)  # Similar to + opeartion"
   ]
  },
  {
   "cell_type": "code",
   "execution_count": 24,
   "id": "4f10af88",
   "metadata": {},
   "outputs": [
    {
     "data": {
      "text/plain": [
       "0.0"
      ]
     },
     "execution_count": 24,
     "metadata": {},
     "output_type": "execute_result"
    }
   ],
   "source": [
    "log(promote(1.0)...)  # 1.0 is converted to MultiDual , and then log operation is applied."
   ]
  },
  {
   "cell_type": "markdown",
   "id": "9439ba20",
   "metadata": {},
   "source": [
    "### Comparison Functions"
   ]
  },
  {
   "cell_type": "code",
   "execution_count": 40,
   "id": "36dc4cd3",
   "metadata": {},
   "outputs": [],
   "source": [
    "# Comparing two MultiDuals through their value.\n",
    "function Base.:>(f::MultiDual{N,T}, g::MultiDual{N,T}) where {N,T}\n",
    "    if (f.val>g.val)\n",
    "\t\treturn true\n",
    "\telse\n",
    "\t\treturn false\n",
    "\tend\n",
    "end\n",
    "\t\n",
    "\t\n",
    "function Base.:<(f::MultiDual{N,T}, g::MultiDual{N,T}) where {N,T}\n",
    "    if (f.val<g.val)\n",
    "\t\treturn true\n",
    "\telse\n",
    "\t\treturn false\n",
    "\tend\n",
    "end\n",
    "\t\n",
    "\t\n",
    "function Base.:(==)(f::MultiDual{N,T}, g::MultiDual{N,T}) where {N,T}\n",
    "    if (f.val==g.val)\n",
    "\t\treturn true\n",
    "\telse\n",
    "\t\treturn false\n",
    "\tend\n",
    "end\n",
    "\t\n",
    "\t\n",
    "# Comparing number & a MultiDual\n",
    "function Base.:(==)(f::MultiDual{N,T}, g::Number) where {N,T}\n",
    "    if (f.val==g)\n",
    "\t\treturn true\n",
    "\telse\n",
    "\t\treturn false\n",
    "\tend\n",
    "end\n",
    "\t\n",
    "\t\n",
    "function Base.:>(f::MultiDual{N,T}, g::Number) where {N,T}\n",
    "    if (f.val>g)\n",
    "\t\treturn true\n",
    "\telse\n",
    "\t\treturn false\n",
    "\tend\n",
    "end\n",
    "\t\n",
    "\t\n",
    "function Base.:<(f::MultiDual{N,T}, g::Number) where {N,T}\n",
    "    if (f.val<g)\n",
    "\t\treturn true\n",
    "\telse\n",
    "\t\treturn false\n",
    "\tend\n",
    "end"
   ]
  },
  {
   "cell_type": "code",
   "execution_count": 26,
   "id": "3a6c16b2",
   "metadata": {},
   "outputs": [
    {
     "data": {
      "text/plain": [
       "false"
      ]
     },
     "execution_count": 26,
     "metadata": {},
     "output_type": "execute_result"
    }
   ],
   "source": [
    "a==b"
   ]
  },
  {
   "cell_type": "code",
   "execution_count": 27,
   "id": "838d743e",
   "metadata": {},
   "outputs": [
    {
     "data": {
      "text/plain": [
       "true"
      ]
     },
     "execution_count": 27,
     "metadata": {},
     "output_type": "execute_result"
    }
   ],
   "source": [
    "b>abs(c)"
   ]
  },
  {
   "cell_type": "code",
   "execution_count": 31,
   "id": "a9433160",
   "metadata": {},
   "outputs": [
    {
     "data": {
      "text/plain": [
       "false"
      ]
     },
     "execution_count": 31,
     "metadata": {},
     "output_type": "execute_result"
    }
   ],
   "source": [
    "abs(c)>a"
   ]
  },
  {
   "cell_type": "code",
   "execution_count": 38,
   "id": "6e8350c7",
   "metadata": {},
   "outputs": [
    {
     "data": {
      "text/plain": [
       "h (generic function with 1 method)"
      ]
     },
     "execution_count": 38,
     "metadata": {},
     "output_type": "execute_result"
    }
   ],
   "source": [
    "h(x,y)=(x+y,x^2*y^3)\n"
   ]
  },
  {
   "cell_type": "code",
   "execution_count": 39,
   "id": "5b0694a0",
   "metadata": {},
   "outputs": [
    {
     "data": {
      "text/plain": [
       "(MultiDual{2, Float64}(7.0, [1.0, 1.0]), MultiDual{2, Float64}(576.0, [384.0, 432.0]))"
      ]
     },
     "execution_count": 39,
     "metadata": {},
     "output_type": "execute_result"
    }
   ],
   "source": [
    "h(a,b)"
   ]
  },
  {
   "cell_type": "code",
   "execution_count": null,
   "id": "2daa0807",
   "metadata": {},
   "outputs": [],
   "source": []
  },
  {
   "cell_type": "code",
   "execution_count": null,
   "id": "f3d1a118",
   "metadata": {},
   "outputs": [],
   "source": []
  },
  {
   "cell_type": "code",
   "execution_count": null,
   "id": "7ed4f768",
   "metadata": {},
   "outputs": [],
   "source": []
  }
 ],
 "metadata": {
  "kernelspec": {
   "display_name": "Julia 1.6.1",
   "language": "julia",
   "name": "julia-1.6"
  },
  "language_info": {
   "file_extension": ".jl",
   "mimetype": "application/julia",
   "name": "julia",
   "version": "1.6.1"
  }
 },
 "nbformat": 4,
 "nbformat_minor": 5
}
